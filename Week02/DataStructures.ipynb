{
 "cells": [
  {
   "cell_type": "markdown",
   "id": "87aabf34",
   "metadata": {},
   "source": [
    "# Data Structures for Data Visualization Course"
   ]
  },
  {
   "cell_type": "code",
   "execution_count": 1,
   "id": "1aff034a",
   "metadata": {},
   "outputs": [
    {
     "name": "stdout",
     "output_type": "stream",
     "text": [
      "Data Visualization\n"
     ]
    }
   ],
   "source": [
    "print(\"Data Visualization\")"
   ]
  },
  {
   "cell_type": "markdown",
   "id": "2f26c2b1",
   "metadata": {},
   "source": [
    "## 1) Variables"
   ]
  },
  {
   "cell_type": "code",
   "execution_count": 5,
   "id": "f783450e",
   "metadata": {},
   "outputs": [
    {
     "name": "stdout",
     "output_type": "stream",
     "text": [
      "1\n",
      "2\n"
     ]
    }
   ],
   "source": [
    "# Variable names are case sensitive: uppercase / lowercase letters\n",
    "var = 1\n",
    "Var = 2\n",
    "print(var)\n",
    "print(Var)"
   ]
  },
  {
   "cell_type": "code",
   "execution_count": 8,
   "id": "6d65b6ff",
   "metadata": {},
   "outputs": [
    {
     "name": "stdout",
     "output_type": "stream",
     "text": [
      "3\n",
      "4\n",
      "5\n"
     ]
    }
   ],
   "source": [
    "# Names can be a combination of letters, digits, and underscore\n",
    "var1 = 3\n",
    "print(var1)\n",
    "var_1 = 4\n",
    "print(var_1)\n",
    "_var1 = 5\n",
    "print(_var1)"
   ]
  },
  {
   "cell_type": "code",
   "execution_count": 9,
   "id": "a49f5eda",
   "metadata": {},
   "outputs": [
    {
     "ename": "SyntaxError",
     "evalue": "invalid decimal literal (4102537848.py, line 2)",
     "output_type": "error",
     "traceback": [
      "\u001b[0;36m  Cell \u001b[0;32mIn [9], line 2\u001b[0;36m\u001b[0m\n\u001b[0;31m    1_var = 6\u001b[0m\n\u001b[0m     ^\u001b[0m\n\u001b[0;31mSyntaxError\u001b[0m\u001b[0;31m:\u001b[0m invalid decimal literal\n"
     ]
    }
   ],
   "source": [
    "# Names can not start with a number\n",
    "1_var = 6\n",
    "print(1_var)"
   ]
  },
  {
   "cell_type": "code",
   "execution_count": 11,
   "id": "ee162060",
   "metadata": {},
   "outputs": [
    {
     "name": "stdout",
     "output_type": "stream",
     "text": [
      "1000000\n",
      "1000000\n",
      "1000000\n"
     ]
    }
   ],
   "source": [
    "my_variable_1 = 1_000_000\n",
    "my_variable_2 = 1000000\n",
    "my_variable_3 = 1_0_0_0_00_0\n",
    "print(my_variable_1)\n",
    "print(my_variable_2)\n",
    "print(my_variable_3)"
   ]
  },
  {
   "cell_type": "code",
   "execution_count": 12,
   "id": "83e9a036",
   "metadata": {},
   "outputs": [
    {
     "ename": "SyntaxError",
     "evalue": "invalid syntax (135169702.py, line 2)",
     "output_type": "error",
     "traceback": [
      "\u001b[0;36m  Cell \u001b[0;32mIn [12], line 2\u001b[0;36m\u001b[0m\n\u001b[0;31m    if = 4\u001b[0m\n\u001b[0m       ^\u001b[0m\n\u001b[0;31mSyntaxError\u001b[0m\u001b[0;31m:\u001b[0m invalid syntax\n"
     ]
    }
   ],
   "source": [
    "# Keywords can not be used as variable names\n",
    "if = 4"
   ]
  },
  {
   "cell_type": "code",
   "execution_count": 13,
   "id": "4ef5805b",
   "metadata": {},
   "outputs": [],
   "source": [
    "import keyword"
   ]
  },
  {
   "cell_type": "code",
   "execution_count": 14,
   "id": "a617882f",
   "metadata": {},
   "outputs": [
    {
     "data": {
      "text/plain": [
       "['__all__',\n",
       " '__builtins__',\n",
       " '__cached__',\n",
       " '__doc__',\n",
       " '__file__',\n",
       " '__loader__',\n",
       " '__name__',\n",
       " '__package__',\n",
       " '__spec__',\n",
       " 'iskeyword',\n",
       " 'issoftkeyword',\n",
       " 'kwlist',\n",
       " 'softkwlist']"
      ]
     },
     "execution_count": 14,
     "metadata": {},
     "output_type": "execute_result"
    }
   ],
   "source": [
    "dir(keyword)"
   ]
  },
  {
   "cell_type": "code",
   "execution_count": 15,
   "id": "75e2a31a",
   "metadata": {},
   "outputs": [
    {
     "data": {
      "text/plain": [
       "['False',\n",
       " 'None',\n",
       " 'True',\n",
       " '__peg_parser__',\n",
       " 'and',\n",
       " 'as',\n",
       " 'assert',\n",
       " 'async',\n",
       " 'await',\n",
       " 'break',\n",
       " 'class',\n",
       " 'continue',\n",
       " 'def',\n",
       " 'del',\n",
       " 'elif',\n",
       " 'else',\n",
       " 'except',\n",
       " 'finally',\n",
       " 'for',\n",
       " 'from',\n",
       " 'global',\n",
       " 'if',\n",
       " 'import',\n",
       " 'in',\n",
       " 'is',\n",
       " 'lambda',\n",
       " 'nonlocal',\n",
       " 'not',\n",
       " 'or',\n",
       " 'pass',\n",
       " 'raise',\n",
       " 'return',\n",
       " 'try',\n",
       " 'while',\n",
       " 'with',\n",
       " 'yield']"
      ]
     },
     "execution_count": 15,
     "metadata": {},
     "output_type": "execute_result"
    }
   ],
   "source": [
    "keyword.kwlist"
   ]
  },
  {
   "cell_type": "code",
   "execution_count": 16,
   "id": "c0699e79",
   "metadata": {},
   "outputs": [
    {
     "name": "stdout",
     "output_type": "stream",
     "text": [
      "Help on built-in function __contains__:\n",
      "\n",
      "__contains__(...) method of builtins.frozenset instance\n",
      "    x.__contains__(y) <==> y in x.\n",
      "\n"
     ]
    }
   ],
   "source": [
    "help(keyword.iskeyword)"
   ]
  },
  {
   "cell_type": "code",
   "execution_count": 17,
   "id": "e4868ef1",
   "metadata": {},
   "outputs": [
    {
     "data": {
      "text/plain": [
       "True"
      ]
     },
     "execution_count": 17,
     "metadata": {},
     "output_type": "execute_result"
    }
   ],
   "source": [
    "keyword.iskeyword(\"if\")"
   ]
  },
  {
   "cell_type": "code",
   "execution_count": 18,
   "id": "86477763",
   "metadata": {},
   "outputs": [
    {
     "data": {
      "text/plain": [
       "False"
      ]
     },
     "execution_count": 18,
     "metadata": {},
     "output_type": "execute_result"
    }
   ],
   "source": [
    "keyword.iskeyword(\"Bora\")"
   ]
  },
  {
   "cell_type": "code",
   "execution_count": 20,
   "id": "151e8282",
   "metadata": {},
   "outputs": [
    {
     "name": "stdout",
     "output_type": "stream",
     "text": [
      "5\n"
     ]
    }
   ],
   "source": [
    "\"\"\"\n",
    "if you are worried about the name, or intentionally \n",
    "want to use a keyword as a variable name, \n",
    "then use an underscore at the end\n",
    "\"\"\"\n",
    "if_ = 5\n",
    "print(if_)"
   ]
  },
  {
   "cell_type": "code",
   "execution_count": 23,
   "id": "d42ea3a1",
   "metadata": {},
   "outputs": [
    {
     "name": "stdout",
     "output_type": "stream",
     "text": [
      "<class 'int'>\n",
      "<class 'float'>\n",
      "<class 'str'>\n",
      "<class 'bool'>\n",
      "<class 'complex'>\n"
     ]
    }
   ],
   "source": [
    "# Primitive Variable Types\n",
    "a = 5\n",
    "b = 7.34\n",
    "c = \"Bora\"\n",
    "d = True\n",
    "e = 2j\n",
    "print(type(a))\n",
    "print(type(b))\n",
    "print(type(c))\n",
    "print(type(d))\n",
    "print(type(e))"
   ]
  },
  {
   "cell_type": "code",
   "execution_count": 24,
   "id": "1a89134e",
   "metadata": {},
   "outputs": [
    {
     "name": "stdout",
     "output_type": "stream",
     "text": [
      "5 7.34 Bora True 2j\n"
     ]
    }
   ],
   "source": [
    "# Multiple assignments\n",
    "v1, v2, v3, v4, v5 = 5, 7.34, \"Bora\", True, 2j\n",
    "print(v1, v2, v3, v4, v5)"
   ]
  },
  {
   "cell_type": "code",
   "execution_count": 26,
   "id": "cc02c9ef",
   "metadata": {},
   "outputs": [
    {
     "name": "stdout",
     "output_type": "stream",
     "text": [
      "7.34 5\n",
      "5 7.34\n"
     ]
    }
   ],
   "source": [
    "# swapping the variables\n",
    "v1, v2 = v2, v1\n",
    "print(v1, v2)\n",
    "v1, v2 = v2, v1\n",
    "print(v1, v2)"
   ]
  },
  {
   "cell_type": "code",
   "execution_count": 47,
   "id": "5332ad64",
   "metadata": {},
   "outputs": [
    {
     "name": "stdout",
     "output_type": "stream",
     "text": [
      "v1 =  5  | v2 =  7.34  | v3 =  Bora  | v4 =  True  | v5 =  2j\n",
      "v1 = 5 | v2 = 7.340000e+00 | v3 = Bora | v4 = True | v5 = 2j \n",
      "v1 = 5 | v2 = 7.34 | v3 = Bora | v4 = True | v5 = 2j\n",
      "v1 = 5 | v2 = 7.34 | v3 = Bora | v4 = True | v5 = 2j\n",
      "v1 = 00005 | v2 =           7.3400\n"
     ]
    }
   ],
   "source": [
    "# Formatted Output\n",
    "print(\"v1 = \", v1, \" | v2 = \", v2, \" | v3 = \", v3, \" | v4 = \", v4, \" | v5 = \", v5)\n",
    "print(\"v1 = %d | v2 = %e | v3 = %s | v4 = %s | v5 = %s \" % (v1, v2, v3, v4, v5))\n",
    "print(\"v1 = {0} | v2 = {1} | v3 = {2} | v4 = {3} | v5 = {4}\".format(v1, v2, v3, v4, v5))\n",
    "print(f\"v1 = {v1} | v2 = {v2} | v3 = {v3} | v4 = {v4} | v5 = {v5}\")\n",
    "print(f\"v1 = {v1:05d} | v2 = {v2:16.4f}\")"
   ]
  },
  {
   "cell_type": "code",
   "execution_count": 57,
   "id": "1c748e50",
   "metadata": {},
   "outputs": [
    {
     "name": "stdout",
     "output_type": "stream",
     "text": [
      "12.0\n",
      "4\n",
      "False\n",
      "7.62\n"
     ]
    }
   ],
   "source": [
    "# Typecasting\n",
    "print(float(12))\n",
    "print(int(4.6))\n",
    "print(bool(0))\n",
    "print(str(7.62))"
   ]
  },
  {
   "cell_type": "code",
   "execution_count": 78,
   "id": "320f3c2a",
   "metadata": {},
   "outputs": [
    {
     "name": "stdout",
     "output_type": "stream",
     "text": [
      "D\n",
      "s\n",
      "18\n",
      "n\n",
      "n\n",
      "i\n",
      "D\n",
      "Data\n",
      "Data\n",
      "Visualization\n",
      "Data Visualization\n",
      "Dt\n",
      "ata\n",
      "noitazilausiV ataD\n"
     ]
    }
   ],
   "source": [
    "# Strings are sequences. Sequences are an object type in Python that allows user to store multiple values.\n",
    "# If they are sequences, then we can use indexing and slicing.\n",
    "name = \"Data Visualization\"\n",
    "print(name[0])\n",
    "print(name[7])\n",
    "print(len(name))\n",
    "print(name[len(name)-1])\n",
    "print(name[-1])\n",
    "print(name[-3])\n",
    "print(name[-len(name)])\n",
    "print(name[0:4])\n",
    "print(name[:4])\n",
    "print(name[5:])\n",
    "print(name[:])\n",
    "print(name[0:4:2])\n",
    "print(name[3:0:-1])\n",
    "print(name[::-1])"
   ]
  },
  {
   "cell_type": "code",
   "execution_count": 85,
   "id": "6f1c2f6d",
   "metadata": {},
   "outputs": [
    {
     "name": "stdout",
     "output_type": "stream",
     "text": [
      "Data Visualization\n",
      "ta Visua\n",
      "t iu\n",
      "lui \n",
      "Data Visualization"
     ]
    }
   ],
   "source": [
    "# Loops and Range\n",
    "for i in range(len(name)):\n",
    "    print(name[i], end='') # help(print)\n",
    "print('')\n",
    "for i in range(2, 10):\n",
    "    print(name[i], end='')\n",
    "print('')\n",
    "for i in range(2, 10, 2):\n",
    "    print(name[i], end='')\n",
    "print('')\n",
    "for i in range(10, 2, -2):\n",
    "    print(name[i], end='')\n",
    "print('')\n",
    "for c in name:\n",
    "    print(c, end='')"
   ]
  },
  {
   "cell_type": "markdown",
   "id": "c1d77cc3",
   "metadata": {},
   "source": [
    "## 2) Sequences in Python"
   ]
  },
  {
   "cell_type": "markdown",
   "id": "af210d21",
   "metadata": {},
   "source": [
    "### Lists\n",
    "Ordered and mutable sequence of values indexed by integer numbers."
   ]
  },
  {
   "cell_type": "code",
   "execution_count": 101,
   "id": "9bc0f17b",
   "metadata": {},
   "outputs": [
    {
     "name": "stdout",
     "output_type": "stream",
     "text": [
      "initialize: [] <class 'list'>\n",
      "append: [7, 9, 3]\n",
      "access: 3\n",
      "insert: [7, 5, 9, 3]\n",
      "update: [7, 5, 4, 3]\n",
      "remove: [7, 4, 3]\n",
      "3\n"
     ]
    }
   ],
   "source": [
    "# initialize\n",
    "a_list = []\n",
    "print(f\"initialize: {a_list} {type(a_list)}\")\n",
    "# append (adding an item to the end)\n",
    "a_list.append(7)\n",
    "a_list.append(9)\n",
    "a_list.append(3)\n",
    "print(f\"append: {a_list}\")\n",
    "# access an item\n",
    "print(f\"access: {a_list[2]}\")\n",
    "# insert an item with an index\n",
    "a_list.insert(1, 5)\n",
    "print(f\"insert: {a_list}\")\n",
    "# update an item\n",
    "a_list[2] = 4\n",
    "print(f\"update: {a_list}\")\n",
    "# remove an item\n",
    "del a_list[1]\n",
    "print(f\"remove: {a_list}\")\n",
    "print(a_list.pop())"
   ]
  },
  {
   "cell_type": "code",
   "execution_count": 102,
   "id": "ee2096d9",
   "metadata": {},
   "outputs": [
    {
     "data": {
      "text/plain": [
       "['__add__',\n",
       " '__class__',\n",
       " '__class_getitem__',\n",
       " '__contains__',\n",
       " '__delattr__',\n",
       " '__delitem__',\n",
       " '__dir__',\n",
       " '__doc__',\n",
       " '__eq__',\n",
       " '__format__',\n",
       " '__ge__',\n",
       " '__getattribute__',\n",
       " '__getitem__',\n",
       " '__gt__',\n",
       " '__hash__',\n",
       " '__iadd__',\n",
       " '__imul__',\n",
       " '__init__',\n",
       " '__init_subclass__',\n",
       " '__iter__',\n",
       " '__le__',\n",
       " '__len__',\n",
       " '__lt__',\n",
       " '__mul__',\n",
       " '__ne__',\n",
       " '__new__',\n",
       " '__reduce__',\n",
       " '__reduce_ex__',\n",
       " '__repr__',\n",
       " '__reversed__',\n",
       " '__rmul__',\n",
       " '__setattr__',\n",
       " '__setitem__',\n",
       " '__sizeof__',\n",
       " '__str__',\n",
       " '__subclasshook__',\n",
       " 'append',\n",
       " 'clear',\n",
       " 'copy',\n",
       " 'count',\n",
       " 'extend',\n",
       " 'index',\n",
       " 'insert',\n",
       " 'pop',\n",
       " 'remove',\n",
       " 'reverse',\n",
       " 'sort']"
      ]
     },
     "execution_count": 102,
     "metadata": {},
     "output_type": "execute_result"
    }
   ],
   "source": [
    "dir(a_list)"
   ]
  },
  {
   "cell_type": "code",
   "execution_count": 105,
   "id": "d5d1f3de",
   "metadata": {},
   "outputs": [
    {
     "name": "stdout",
     "output_type": "stream",
     "text": [
      "[4, 7]\n",
      "[7, 4]\n"
     ]
    }
   ],
   "source": [
    "a_list.sort()\n",
    "print(a_list)\n",
    "a_list.reverse()\n",
    "print(a_list)"
   ]
  },
  {
   "cell_type": "markdown",
   "id": "5fa65b35",
   "metadata": {},
   "source": [
    "### Tuples\n",
    "Ordered and immutable sequence of values indexed by integer numbers."
   ]
  },
  {
   "cell_type": "code",
   "execution_count": 108,
   "id": "69c663be",
   "metadata": {},
   "outputs": [
    {
     "name": "stdout",
     "output_type": "stream",
     "text": [
      "initialize: (3, 5, 7, 9) <class 'tuple'>\n",
      "access: 7\n"
     ]
    },
    {
     "ename": "NameError",
     "evalue": "name 'a_tuple' is not defined",
     "output_type": "error",
     "traceback": [
      "\u001b[0;31m---------------------------------------------------------------------------\u001b[0m",
      "\u001b[0;31mNameError\u001b[0m                                 Traceback (most recent call last)",
      "Cell \u001b[0;32mIn [108], line 9\u001b[0m\n\u001b[1;32m      7\u001b[0m \u001b[38;5;66;03m# remove the whole tuple\u001b[39;00m\n\u001b[1;32m      8\u001b[0m \u001b[38;5;28;01mdel\u001b[39;00m a_tuple\n\u001b[0;32m----> 9\u001b[0m \u001b[38;5;28mprint\u001b[39m(\u001b[43ma_tuple\u001b[49m)\n",
      "\u001b[0;31mNameError\u001b[0m: name 'a_tuple' is not defined"
     ]
    }
   ],
   "source": [
    "# initialize\n",
    "a_tuple = (3, 5, 7, 9)\n",
    "print(f\"initialize: {a_tuple} {type(a_tuple)}\")\n",
    "# immutable: no append, no update, no remove\n",
    "# access an item\n",
    "print(f\"access: {a_tuple[2]}\")\n",
    "# remove the whole tuple\n",
    "del a_tuple\n",
    "print(a_tuple)"
   ]
  },
  {
   "cell_type": "markdown",
   "id": "653c949d",
   "metadata": {},
   "source": [
    "### Sets\n",
    "Unordered and mutable collection of values with no duplicate items. They support mathematical operations like union, intersection, difference, and symmetric difference."
   ]
  },
  {
   "cell_type": "code",
   "execution_count": 121,
   "id": "c68a3d7b",
   "metadata": {},
   "outputs": [
    {
     "name": "stdout",
     "output_type": "stream",
     "text": [
      "initialize: {9, 3, 5, 7} <class 'set'>\n",
      "add: {1, 3, 5, 7, 9}\n",
      "remove: {1, 3, 5}\n",
      "fill again: {3, 5, 7}\n",
      "empty set: set()\n",
      "union of two sets: {1, 2, 3, 4, 5, 6, 7, 8}\n",
      "difference of two sets: {3, 5, 7} {8, 4, 6}\n",
      "symmetrical difference of two sets: {3, 4, 5, 6, 7, 8}\n"
     ]
    }
   ],
   "source": [
    "# initialize\n",
    "a_set = {3, 5, 5, 5, 5, 7, 7, 7, 7, 9, 3, 5, 7, 9}\n",
    "print(f\"initialize: {a_set} {type(a_set)}\")\n",
    "# add\n",
    "a_set.add(7)\n",
    "a_set.add(9)\n",
    "a_set.add(1)\n",
    "print(f\"add: {a_set}\")\n",
    "# unordered: no access, no insert, no update\n",
    "# remove an item (with the value)\n",
    "a_set.remove(9)\n",
    "a_set.discard(8) # a_set.remove(8) raises a key error\n",
    "a_set.discard(7)\n",
    "print(f\"remove: {a_set}\")\n",
    "# delete\n",
    "del a_set\n",
    "# remove all items rather than deleting the set\n",
    "a_set = set([3, 5, 7])\n",
    "print(f\"fill again: {a_set}\")\n",
    "a_set.clear()\n",
    "print(f\"empty set: {a_set}\")\n",
    "# union of two sets\n",
    "a_set_1 = {1, 2, 3, 5, 7}\n",
    "a_set_2 = {1, 2, 4, 6, 8}\n",
    "print(f\"union of two sets: {a_set_1 | a_set_2}\")\n",
    "# difference of two sets\n",
    "print(f\"difference of two sets: {a_set_1 - a_set_2} {a_set_2 - a_set_1}\")\n",
    "# symmetrical difference of two sets\n",
    "print(f\"symmetrical difference of two sets: {a_set_1 ^ a_set_2}\")"
   ]
  },
  {
   "cell_type": "markdown",
   "id": "a3c5d192",
   "metadata": {},
   "source": [
    "### Dictionaries\n",
    "Unordered and mutable set of key-value pairs"
   ]
  },
  {
   "cell_type": "code",
   "execution_count": 129,
   "id": "108dda22",
   "metadata": {},
   "outputs": [
    {
     "name": "stdout",
     "output_type": "stream",
     "text": [
      "initialize: {} <class 'dict'>\n",
      "add: {'first_name': 'Bora', 'last_name': 'Canbula', 'age': 38}\n",
      "access: Canbula\n",
      "keys: dict_keys(['first_name', 'last_name', 'age'])\n",
      "values: dict_values(['Bora', 'Canbula', 38])\n",
      "update: 39\n",
      "remove: {'first_name': 'Bora', 'age': 39}\n",
      "clear: {}\n"
     ]
    }
   ],
   "source": [
    "# initialize\n",
    "a_dict = {}\n",
    "print(f\"initialize: {a_dict} {type(a_dict)}\")\n",
    "# add an item with a key\n",
    "a_dict[\"first_name\"] = \"Bora\"\n",
    "a_dict[\"last_name\"] = \"Canbula\"\n",
    "a_dict[\"age\"] = 38\n",
    "print(f\"add: {a_dict}\")\n",
    "# access an item\n",
    "print(f\"access: {a_dict['last_name']}\")\n",
    "# list the keys and values\n",
    "print(f\"keys: {a_dict.keys()}\")\n",
    "print(f\"values: {a_dict.values()}\")\n",
    "# update an item\n",
    "a_dict[\"age\"] = 39\n",
    "print(f\"update: {a_dict['age']}\")\n",
    "# remove an item\n",
    "del a_dict[\"last_name\"]\n",
    "print(f\"remove: {a_dict}\")\n",
    "# remove all items\n",
    "a_dict.clear()\n",
    "print(f\"clear: {a_dict}\")"
   ]
  },
  {
   "cell_type": "code",
   "execution_count": 134,
   "id": "e7865c82",
   "metadata": {},
   "outputs": [
    {
     "name": "stdout",
     "output_type": "stream",
     "text": [
      "first_name\n",
      "last_name\n",
      "age\n",
      "Bora\n",
      "Canbula\n",
      "38\n",
      "first_name Bora\n",
      "last_name Canbula\n",
      "age 38\n",
      "first_name Bora\n",
      "last_name Canbula\n",
      "age 38\n"
     ]
    }
   ],
   "source": [
    "a_dict = {'first_name': 'Bora', 'last_name': 'Canbula', 'age': 38}\n",
    "for k in a_dict.keys():\n",
    "    print(k)\n",
    "for v in a_dict.values():\n",
    "    print(v)\n",
    "for k, v in zip(a_dict.keys(), a_dict.values()):\n",
    "    print(k, v)\n",
    "for k, v in a_dict.items():\n",
    "    print(k, v)"
   ]
  },
  {
   "cell_type": "code",
   "execution_count": null,
   "id": "e1f5103f",
   "metadata": {},
   "outputs": [],
   "source": []
  }
 ],
 "metadata": {
  "kernelspec": {
   "display_name": "Python 3 (ipykernel)",
   "language": "python",
   "name": "python3"
  },
  "language_info": {
   "codemirror_mode": {
    "name": "ipython",
    "version": 3
   },
   "file_extension": ".py",
   "mimetype": "text/x-python",
   "name": "python",
   "nbconvert_exporter": "python",
   "pygments_lexer": "ipython3",
   "version": "3.9.15"
  }
 },
 "nbformat": 4,
 "nbformat_minor": 5
}
